{
 "cells": [
  {
   "cell_type": "code",
   "execution_count": 65,
   "metadata": {},
   "outputs": [
    {
     "name": "stderr",
     "output_type": "stream",
     "text": [
      "2020-08-01 20:38:50 Xpal-Sutradhar-MainThread-[load_xpal_smriti] INFO : Loaded config from /opt/xpal-data//avxpal.json\n",
      "2020-08-01 20:38:50 Dwarkanath-MainThread-[__init__] INFO : My name is \u001b[38;5;1mDwarkanath\u001b[0m\n",
      "2020-08-01 20:38:50 Dwarkanath-MainThread-[setup_disk] INFO : I already have a datapath at the location \u001b[38;5;3m/opt/xpal-data/xetrapal-data\u001b[0m\n",
      "2020-08-01 20:38:50 Dwarkanath-MainThread-[start_session] INFO : Creating a new path for this session at \u001b[38;5;3m/opt/xpal-data/xetrapal-data/Dwarkanath-2020Aug01-203850\u001b[0m\n",
      "2020-08-01 20:38:50 Dwarkanath-MainThread-[start_session] INFO : Creating a new download path for this session at \u001b[38;5;3m/opt/xpal-data/xetrapal-data/Dwarkanath-2020Aug01-203850/downloads\u001b[0m\n",
      "2020-08-01 20:38:50 Dwarkanath-MainThread-[start_session] INFO : Creating a new json path for this session at \u001b[38;5;3m/opt/xpal-data/xetrapal-data/Dwarkanath-2020Aug01-203850/json\u001b[0m \n",
      "2020-08-01 20:38:50 Dwarkanath-MainThread-[log_to_disk] INFO : Saving messages to log at \u001b[38;5;3m/opt/xpal-data/xetrapal-data/Dwarkanath-2020Aug01-203850/jeevasession.log\u001b[0m\n",
      "2020-08-01 20:38:50 Dwarkanath-MainThread-[dhaarana] INFO : Trying to load module xetrapal.astra\n",
      "2020-08-01 20:38:50 Dwarkanath-MainThread-[dhaarana] INFO : I now have functions ['get_browser', 'get_headless_browser', 'get_xpal_logger']\n",
      "2020-08-01 20:38:50 Dwarkanath-MainThread-[dhaarana] INFO : Trying to load module xetrapal.karma\n",
      "2020-08-01 20:38:50 Dwarkanath-MainThread-[dhaarana] INFO : I now have functions ['close_modal', 'copy_smriti', 'deepcopy', 'download_file', 'export_table', 'get_aadesh', 'get_browser', 'get_color_json', 'get_formatted_json', 'get_headless_browser', 'get_remote_smriti_status', 'get_smriti_status', 'get_xpal_logger', 'load_config', 'load_config_json', 'load_xpal_smriti', 'pull_smritis', 'save_config', 'save_data_to_jsonfile', 'scroll_page', 'scroll_to_bottom', 'scroll_up', 'urlopen', 'uuid4', 'wait']\n",
      "2020-08-01 20:38:50 Dwarkanath-MainThread-[update_astras] INFO : Trying to update astras\n",
      "2020-08-01 20:38:50 Dwarkanath-MainThread-[update_astras] WARNING : I dont seem to have any astras\n",
      "2020-08-01 20:38:50 Dwarkanath-MainThread-[update_vaahans] INFO : Trying to update vaahans\n",
      "2020-08-01 20:38:50 Dwarkanath-MainThread-[update_vaahans] WARNING : I dont seem to have any vaahans\n",
      "2020-08-01 20:38:50 Xpal-Sutradhar-MainThread-[gd_get_googledriver] INFO : Trying to log into Google drive\n"
     ]
    }
   ],
   "source": [
    "import xetrapal, pandas, d3fdgraph, ipysheet\n",
    "from xetrapal import gdastras\n",
    "a=xetrapal.karma.load_xpal_smriti(\"/opt/xpal-data//avxpal.json\")\n",
    "avxpal=xetrapal.Xetrapal(a)\n",
    "config=xetrapal.karma.load_config_json(a.configfile)\n",
    "pygsheetsconfig = xetrapal.karma.load_config_json(config['Pygsheets']['avdrive'])\n",
    "gd = gdastras.gd_get_googledriver(pygsheetsconfig)\n"
   ]
  },
  {
   "cell_type": "code",
   "execution_count": 66,
   "metadata": {},
   "outputs": [],
   "source": [
    "\n",
    "bowdf=pandas.read_excel(\"./RawData/BoW Master_04092019.xlsx\", sheet_name=\"Bud\")\n",
    "digdf=pandas.read_excel(\"./RawData/BoW Master_04092019.xlsx\", sheet_name=\"Digital Investments\")\n"
   ]
  },
  {
   "cell_type": "code",
   "execution_count": 67,
   "metadata": {},
   "outputs": [
    {
     "data": {
      "application/vnd.jupyter.widget-view+json": {
       "model_id": "8ce91f78e54944749a35b4ac0b83bf46",
       "version_major": 2,
       "version_minor": 0
      },
      "text/plain": [
       "Sheet(cells=(Cell(choice=[], column_end=0, column_start=0, numeric_format=None, row_end=97, row_start=0, squee…"
      ]
     },
     "metadata": {},
     "output_type": "display_data"
    }
   ],
   "source": [
    "showdf=bowdf.sort_values(by=\"ICO funds 4-Year Outlook\", ascending=False)[[\"BoW ID\", \"BoW Name\", \"Sources of funding\", \"ICO funds 4-Year Outlook\", 2020, 2021, 2022, 2023]]\n",
    "s1=ipysheet.from_dataframe(showdf)\n",
    "s1"
   ]
  },
  {
   "cell_type": "code",
   "execution_count": 23,
   "metadata": {
    "scrolled": true
   },
   "outputs": [
    {
     "data": {
      "application/vnd.jupyter.widget-view+json": {
       "model_id": "37a65727dc034e1382b0bb86a6ed99dd",
       "version_major": 2,
       "version_minor": 0
      },
      "text/plain": [
       "Sheet(cells=(Cell(choice=[], column_end=0, column_start=0, numeric_format=None, row_end=19, row_start=0, squee…"
      ]
     },
     "metadata": {},
     "output_type": "display_data"
    }
   ],
   "source": [
    "showdf2=digdf\n",
    "#showdf2[\"BOW Owner\"==\"Rahul\"]\n",
    "\n",
    "s2=ipysheet.from_dataframe(showdf2)\n",
    "#showdf2\n",
    "s2\n",
    "#ihsdf.columns"
   ]
  },
  {
   "cell_type": "code",
   "execution_count": 24,
   "metadata": {},
   "outputs": [],
   "source": [
    "edges=[]\n",
    "\n",
    "#d3fdgraph.plot_force_directed_graph(edges[[\"source\", \"target\", \"weight\"]], node_radius=10)"
   ]
  },
  {
   "cell_type": "code",
   "execution_count": 25,
   "metadata": {},
   "outputs": [
    {
     "name": "stdout",
     "output_type": "stream",
     "text": [
      "['B03788' 'B03797' 'B03808']\n"
     ]
    }
   ],
   "source": [
    "bows=digdf['BoW Number '].unique()\n",
    "print(bows)\n",
    "for bow in bows:\n",
    "    edges.append({\"source\":bow, \"target\":\"RM\", \"weight\":1})\n",
    "\n"
   ]
  },
  {
   "cell_type": "code",
   "execution_count": 26,
   "metadata": {},
   "outputs": [
    {
     "name": "stdout",
     "output_type": "stream",
     "text": [
      "0    Rahul Mullick\n",
      "Name: INV Owner, dtype: object\n",
      "1    Rahul Mullick\n",
      "Name: INV Owner, dtype: object\n",
      "2    Rahul Mullick\n",
      "Name: INV Owner, dtype: object\n",
      "3    Sanjeev Sridharan\n",
      "Name: INV Owner, dtype: object\n",
      "4    Rahul Mullick\n",
      "Name: INV Owner, dtype: object\n",
      "5    Tim Wood\n",
      "Name: INV Owner, dtype: object\n",
      "6    Suhel Bidani\n",
      "Name: INV Owner, dtype: object\n",
      "7    Rahul Mullick\n",
      "Name: INV Owner, dtype: object\n",
      "8    Neeta Goel\n",
      "Name: INV Owner, dtype: object\n",
      "9     Suhel Bidani\n",
      "17    Suhel Bidani\n",
      "Name: INV Owner, dtype: object\n",
      "10    Suhel Bidani\n",
      "Name: INV Owner, dtype: object\n",
      "11    Suhel Bidani\n",
      "Name: INV Owner, dtype: object\n",
      "12    Suhel Bidani\n",
      "Name: INV Owner, dtype: object\n",
      "13    Suhel Bidani\n",
      "Name: INV Owner, dtype: object\n",
      "14    Suhel Bidani\n",
      "Name: INV Owner, dtype: object\n",
      "15    Suhel Bidani\n",
      "Name: INV Owner, dtype: object\n",
      "16    Suhel Bidani\n",
      "Name: INV Owner, dtype: object\n",
      "18    Suhel Bidani\n",
      "Name: INV Owner, dtype: object\n",
      "19    Suhel Bidani\n",
      "Name: INV Owner, dtype: object\n"
     ]
    }
   ],
   "source": [
    "invs=digdf['New ID'].unique()\n",
    "invs\n",
    "for inv in invs:\n",
    "    print(digdf[digdf['New ID']==inv]['INV Owner'])"
   ]
  },
  {
   "cell_type": "code",
   "execution_count": 30,
   "metadata": {},
   "outputs": [
    {
     "data": {
      "application/vnd.jupyter.widget-view+json": {
       "model_id": "1789caa0801744e4a601969c855c7e85",
       "version_major": 2,
       "version_minor": 0
      },
      "text/plain": [
       "Sheet(cells=(Cell(choice=[], column_end=0, column_start=0, numeric_format=None, row_end=2, row_start=0, squeez…"
      ]
     },
     "metadata": {},
     "output_type": "display_data"
    }
   ],
   "source": [
    "edgedf=pandas.DataFrame(edges)\n",
    "s3=ipysheet.from_dataframe(edgedf)\n"
   ]
  },
  {
   "cell_type": "code",
   "execution_count": 31,
   "metadata": {},
   "outputs": [
    {
     "data": {
      "text/html": [
       "<div>\n",
       "<style scoped>\n",
       "    .dataframe tbody tr th:only-of-type {\n",
       "        vertical-align: middle;\n",
       "    }\n",
       "\n",
       "    .dataframe tbody tr th {\n",
       "        vertical-align: top;\n",
       "    }\n",
       "\n",
       "    .dataframe thead th {\n",
       "        text-align: right;\n",
       "    }\n",
       "</style>\n",
       "<table border=\"1\" class=\"dataframe\">\n",
       "  <thead>\n",
       "    <tr style=\"text-align: right;\">\n",
       "      <th></th>\n",
       "      <th>source</th>\n",
       "      <th>target</th>\n",
       "      <th>weight</th>\n",
       "    </tr>\n",
       "  </thead>\n",
       "  <tbody>\n",
       "    <tr>\n",
       "      <th>0</th>\n",
       "      <td>B03788</td>\n",
       "      <td>RM</td>\n",
       "      <td>1</td>\n",
       "    </tr>\n",
       "    <tr>\n",
       "      <th>1</th>\n",
       "      <td>B03797</td>\n",
       "      <td>RM</td>\n",
       "      <td>1</td>\n",
       "    </tr>\n",
       "    <tr>\n",
       "      <th>2</th>\n",
       "      <td>B03808</td>\n",
       "      <td>RM</td>\n",
       "      <td>1</td>\n",
       "    </tr>\n",
       "  </tbody>\n",
       "</table>\n",
       "</div>"
      ],
      "text/plain": [
       "   source target  weight\n",
       "0  B03788     RM       1\n",
       "1  B03797     RM       1\n",
       "2  B03808     RM       1"
      ]
     },
     "execution_count": 31,
     "metadata": {},
     "output_type": "execute_result"
    }
   ],
   "source": [
    "edgedf"
   ]
  },
  {
   "cell_type": "code",
   "execution_count": null,
   "metadata": {},
   "outputs": [],
   "source": []
  }
 ],
 "metadata": {
  "kernelspec": {
   "display_name": "Python 3",
   "language": "python",
   "name": "python3"
  },
  "language_info": {
   "codemirror_mode": {
    "name": "ipython",
    "version": 3
   },
   "file_extension": ".py",
   "mimetype": "text/x-python",
   "name": "python",
   "nbconvert_exporter": "python",
   "pygments_lexer": "ipython3",
   "version": "3.8.2"
  }
 },
 "nbformat": 4,
 "nbformat_minor": 4
}
