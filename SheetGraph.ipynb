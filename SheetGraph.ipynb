{
 "cells": [
  {
   "cell_type": "code",
   "execution_count": 43,
   "metadata": {},
   "outputs": [
    {
     "data": {
      "text/plain": [
       "(             name         type  catcode\n",
       " 0           LokOS      Project        1\n",
       " 1    AccessHealth      Partner        2\n",
       " 2       Microware       Vendor        3\n",
       " 3             BHS  Ext Concept        4\n",
       " 4            NDHB  Ext Concept        4\n",
       " 5   Alka Upadhyay     Govt Emp        5\n",
       " 6           HIEAF  Ext Concept        4\n",
       " 7           iSPRT   Ext Entity        6\n",
       " 8            CDFI      Partner        2\n",
       " 9        NRLM-MIS   Ext System        4\n",
       " 10            NIC   Ext Entity        6,\n",
       "            source                             story     target\n",
       " 0   Alka Upadhyay                         Works For        NIC\n",
       " 1             NIC                            Houses   NRLM-MIS\n",
       " 2           LokOS                   Will Complement   NRLM-MIS\n",
       " 3            CDFI                      Is Designing      LokOS\n",
       " 4       Microware                      Will Develop      LokOS\n",
       " 5           iSPRT               Is Due Dilligencing  Microware\n",
       " 6           iSPRT            Gives Design Inputs On      LokOS\n",
       " 7           iSPRT            Gives Design Inputs To       CDFI\n",
       " 8           iSPRT                     Is Developing        BHS\n",
       " 9    AccessHealth                      Is Designing      HIEAF\n",
       " 10          HIEAF                Seeks Interop With        BHS\n",
       " 11            BHS  Is a reference implementation of       NDHB\n",
       " 12          HIEAF                Takes into account       NDHB)"
      ]
     },
     "execution_count": 43,
     "metadata": {},
     "output_type": "execute_result"
    }
   ],
   "source": [
    "import pandas\n",
    "reldf=pandas.read_excel(\"./RawData/Relationships.xlsx\", sheet_name=\"Relationships\")\n",
    "typedf=pandas.read_excel(\"./RawData/Relationships.xlsx\", sheet_name=\"Entities\")\n",
    "typedf, reldf"
   ]
  },
  {
   "cell_type": "code",
   "execution_count": null,
   "metadata": {},
   "outputs": [],
   "source": [
    "typedf.name=pandas.array(list(set(list(reldf.source.unique())+list(reldf.target.unique()))))\n"
   ]
  },
  {
   "cell_type": "code",
   "execution_count": 44,
   "metadata": {},
   "outputs": [],
   "source": [
    "# Write to Excel\n",
    "with pandas.ExcelWriter(\"./RawData/Relationships.xlsx\") as writer:\n",
    "    typedf.to_excel(writer, sheet_name=\"Entities\", index=False)\n",
    "    reldf.to_excel(writer, sheet_name=\"Relationships\", index=False)"
   ]
  },
  {
   "cell_type": "code",
   "execution_count": 45,
   "metadata": {},
   "outputs": [],
   "source": [
    "# Write to JSON\n",
    "with open(\"./RawData/reldata.json\",\"w\") as f:\n",
    "    f.write(reldf.to_json(orient=\"records\"))\n",
    "\n",
    "with open(\"./RawData/typedata.json\",\"w\") as f:\n",
    "    f.write(typedf.to_json(orient=\"records\"))\n",
    "    \n"
   ]
  }
 ],
 "metadata": {
  "kernelspec": {
   "display_name": "Python 3",
   "language": "python",
   "name": "python3"
  },
  "language_info": {
   "codemirror_mode": {
    "name": "ipython",
    "version": 3
   },
   "file_extension": ".py",
   "mimetype": "text/x-python",
   "name": "python",
   "nbconvert_exporter": "python",
   "pygments_lexer": "ipython3",
   "version": "3.8.2"
  }
 },
 "nbformat": 4,
 "nbformat_minor": 4
}
